{
  "cells": [
    {
      "cell_type": "markdown",
      "metadata": {
        "id": "YgaqXBYJDx0D"
      },
      "source": [
        "#HW #1. Improve code Efficiency: Sort First!\n",
        "\n",
        "## Scenario.\n",
        "\n",
        "In a two class, classification problem, it is common to use a classifier that outputs confidences (rather than simply class labels). A good example of this is a Support Vector Machine. A pro for using such a classifier is that you gain more information -- specifically the confidence in the classification result. A con is that in order to make a final classification decision, a threshold value must be determined. For example, if a threshold of 0.75 is chosen, the class label 1 would be assigned for confidences greater than 0.75 and for confidences less than 0.75 a class label of 0 would be assigned. However, this begs the question: how is the threshold chosen?\n",
        "\n",
        "Many data scientists will choose a threshold based on the experimental results and/or operational constraints. In this code example, we assume that we have confidences and true labels for a large data set. To determine a good threshold we will compute the true positive rates (TPRs) and false positive rates (FPRs) at all relevant thresholds. The relevant thresholds are considered those that would change the TPRs and FPRs.\n",
        "\n",
        "In the code below, a function is defined to compute the TPR and FPR at all relevant thresholds. However, the code is not very efficient and can be improved. (Note there are tips and hints found in the comments.)\n",
        "\n",
        "Your task is the following:\n",
        "\n",
        "## Question 1\n",
        "**40 POINTS**  \n",
        "Assess the time complexity of the method computeAllTPRs(...). Provide a line-by-line assessment in comments identifying the proportional number of steps (bounding notation is sufficient) per line: eg, O(1), O(log n), O(n), etc. Also, derive a time step function T(n) for the entire method (where n is the size of input true_label).\n",
        "\n",
        "## Question 2\n",
        "**30 POINTS**  \n",
        "Implement a new function computeAllTPRs_improved(...) which performs the same task as computeAllTPRs but has a significantly reduced time complexity. Also provide a line-by-line assessment in comments identifying the proportional number of steps per line, and derive a time step function T(n) for the entire method (where n is the size of input true_label).\n",
        "\n",
        "## Question 3\n",
        "**30 POINTS**  \n",
        "Compare the theoretical time complexities of both methods and predict which is more efficient. Next, test your prediction by timing both methods on sample inputs of varying sizes. Create a plot of inputSize vs runtime (as done in similar class examples).  \n",
        "\n",
        "**NOTE: Do not include runtimes for graphing**\n",
        "\n",
        "**TOTAL POINTS: 100**\n",
        "\n",
        "---"
      ]
    },
    {
      "cell_type": "code",
      "execution_count": 11,
      "metadata": {
        "id": "tQs8b3ccEskN"
      },
      "outputs": [],
      "source": [
        "import matplotlib.pyplot as plt\n",
        "import random\n",
        "from copy import deepcopy\n",
        "from numpy import argmax\n",
        "import time"
      ]
    },
    {
      "cell_type": "markdown",
      "metadata": {
        "id": "l4t6Gd-XNWdr"
      },
      "source": [
        "Answer Question #1 in the comments of the code chunk below."
      ]
    },
    {
      "cell_type": "code",
      "execution_count": 12,
      "metadata": {
        "id": "IFu90tkjEORa"
      },
      "outputs": [],
      "source": [
        "def computeAllTPRs(true_label, confs):\n",
        "  '''\n",
        "\n",
        "  inputs:\n",
        "    - true_label: list of labels, assumed to be 0 or 1 (a two class problem)\n",
        "    - confs: list of confidences\n",
        "\n",
        "  This method computes the True Positive Rate (TPRs) and FPRs for all relevant\n",
        "  thresholds given true_label and confs. Relevant thresholds are considered\n",
        "  all different values found in confs.\n",
        "  '''\n",
        "\n",
        "  # Define / initialize  variables\n",
        "  sentinelValue = -1 # O(1)\n",
        "  totalPositives = sum(true_label) # O(1)\n",
        "  totalNegatives = len(true_label) - totalPositives # O(1)\n",
        "  truePositives = 0 # O(1)\n",
        "  falsePositives = 0 # O(1)\n",
        "  truePositiveRate = [] # O(1)\n",
        "  falsePositiveRate = [] # O(1)\n",
        "\n",
        "  for i in range(len(confs)): # O(n)\n",
        "    maxVal = max(confs)  # O(n)\n",
        "    argMax = argmax(confs) # O(n)\n",
        "    confs[argMax] = sentinelValue # O(1)\n",
        "    if true_label[argMax]==1: # O(1)\n",
        "      truePositives += 1 # O(1)\n",
        "    else: \n",
        "      falsePositives += 1 # O(1)\n",
        "\n",
        "    truePositiveRate.append(truePositives/totalPositives) # O(1)\n",
        "    falsePositiveRate.append(falsePositives/totalNegatives) # O(1)\n",
        "\n",
        "# T(n) = 7 + n(n + n + 5) = 2n^2 + 5n + 7"
      ]
    },
    {
      "cell_type": "markdown",
      "metadata": {
        "id": "J0aNsuFFMzLt"
      },
      "source": [
        "Below, provide your implementation for Question #2."
      ]
    },
    {
      "cell_type": "code",
      "execution_count": 13,
      "metadata": {
        "id": "I4SoYMYBMyzA"
      },
      "outputs": [],
      "source": [
        "def computeAllTPRs_improved(true_label, confs):\n",
        "\n",
        "  totalPositives = sum(true_label) # O(1)\n",
        "  totalNegatives = len(true_label) - totalPositives # O(1)\n",
        "  truePositives = 0 # O(1)\n",
        "  falsePositives = 0 # O(1)\n",
        "  truePositiveRate = [] # O(1)\n",
        "  falsePositiveRate = [] # O(1)\n",
        "\n",
        "  sorted_confs = [x for _, x in sorted(zip(true_label, confs))] # O(nlogn)\n",
        "\n",
        "  for label, conf in sorted_confs: # O(n)\n",
        "    if label ==1: # O(1)\n",
        "      truePositives += 1 # O(1)\n",
        "    else: \n",
        "      falsePositives += 1 # O(1)\n",
        "\n",
        "    truePositiveRate.append(truePositives/totalPositives) # O(1)\n",
        "    falsePositiveRate.append(falsePositives/totalNegatives) # O(1)\n",
        "\n",
        "# T(n) = 6 + nlogn + n(5) = nlogn + 5n + 6"
      ]
    },
    {
      "cell_type": "markdown",
      "metadata": {
        "id": "lP72j3GqM6AH"
      },
      "source": [
        "Question #3. Below, provide your code which records and plots the runtime for the original and improved methods."
      ]
    },
    {
      "cell_type": "markdown",
      "metadata": {},
      "source": [
        "In the first method, our time complexity is O(n^2), whereas the improved method has a time complexity of O(nlogn). Based on this, we can expect the second method to perform better than the first, as it is a lower computational complexity class. "
      ]
    },
    {
      "cell_type": "code",
      "execution_count": 14,
      "metadata": {
        "id": "PAWM8pogeysb"
      },
      "outputs": [],
      "source": [
        "def testComputeAllTPRs(numSamples):\n",
        "\n",
        "  confList = []\n",
        "  labels = []\n",
        "  maxVal = 10000\n",
        "  for i in range(0,numSamples):\n",
        "    n = random.randint(1,maxVal)\n",
        "    confList.append(n/maxVal)\n",
        "    if n/maxVal > .5:\n",
        "      lab = 1\n",
        "    else:\n",
        "      lab = 0\n",
        "    labels.append(lab)\n",
        "\n",
        "  start = time.time()\n",
        "  computeAllTPRs(labels, deepcopy(confList))\n",
        "  end = time.time()\n",
        "\n",
        "  return (end-start) * 10**3 # runtime in milliseconds\n",
        "\n",
        "def testComputeAllTPRs_improved(numSamples):\n",
        "\n",
        "  confList = []\n",
        "  labels = []\n",
        "  maxVal = 10000\n",
        "  for i in range(0,numSamples):\n",
        "    n = random.randint(1,maxVal)\n",
        "    confList.append(n/maxVal)\n",
        "    if n/maxVal > .5:\n",
        "      lab = 1\n",
        "    else:\n",
        "      lab = 0\n",
        "    labels.append(lab)\n",
        "  \n",
        "  start = time.time()\n",
        "  computeAllTPRs_improved(labels, deepcopy(confList))\n",
        "  end = time.time()\n",
        "\n",
        "  return (end-start) * 10**3 # runtime in milliseconds"
      ]
    },
    {
      "cell_type": "markdown",
      "metadata": {},
      "source": [
        "Compare the theoretical time complexities of both methods and predict which is more efficient. Next, test your prediction by timing both methods on sample inputs of varying sizes. Create a plot of inputSize vs runtime (as done in similar class examples).  \n"
      ]
    },
    {
      "cell_type": "code",
      "execution_count": 16,
      "metadata": {},
      "outputs": [
        {
          "name": "stdout",
          "output_type": "stream",
          "text": [
            "[7.923364639282227, 4.548788070678711, 9.286165237426758, 13.20195198059082, 16.099214553833008, 19.199848175048828, 24.374008178710938, 36.830902099609375, 39.10207748413086]\n"
          ]
        }
      ],
      "source": [
        "numsamples = list(range(100, 1000, 100))\n",
        "runtimes1 = []\n",
        "runtimes2 = []\n",
        "\n",
        "for n in numsamples:\n",
        "    runtimes1.append(testComputeAllTPRs(n))\n",
        "    # runtimes2.append(testComputeAllTPRs_improved(n))\n",
        "\n",
        "print(runtimes1)\n",
        "# print(runtimes2)"
      ]
    },
    {
      "cell_type": "code",
      "execution_count": null,
      "metadata": {},
      "outputs": [],
      "source": []
    }
  ],
  "metadata": {
    "colab": {
      "provenance": []
    },
    "kernelspec": {
      "display_name": "Python 3",
      "language": "python",
      "name": "python3"
    },
    "language_info": {
      "codemirror_mode": {
        "name": "ipython",
        "version": 3
      },
      "file_extension": ".py",
      "mimetype": "text/x-python",
      "name": "python",
      "nbconvert_exporter": "python",
      "pygments_lexer": "ipython3",
      "version": "3.11.7"
    }
  },
  "nbformat": 4,
  "nbformat_minor": 0
}
