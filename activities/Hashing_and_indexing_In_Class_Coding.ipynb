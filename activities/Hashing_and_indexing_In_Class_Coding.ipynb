{
  "cells": [
    {
      "cell_type": "markdown",
      "metadata": {
        "id": "QuxIic64foOd"
      },
      "source": [
        "## **Majority Element**\n",
        "\n",
        "Given an array nums of size n, return the majority element.\n",
        "\n",
        "The majority element is the element that appears more than ⌊n / 2⌋ times. You may assume that the majority element always exists in the array.\n",
        "\n",
        "(Optional) Analyze the complexity of your algorithm and compare it with your classmates'\n",
        "\n",
        "Example 1:\n",
        "\n",
        "*   Input: nums = [3,2,3]\n",
        "*   Output: 3\n",
        "\n",
        "Example 2:\n",
        "\n",
        "*   Input: nums = [2,2,1,1,1,2,2]\n",
        "*   Output: 2\n"
      ]
    },
    {
      "cell_type": "code",
      "execution_count": 2,
      "metadata": {},
      "outputs": [],
      "source": [
        "from collections import Counter"
      ]
    },
    {
      "cell_type": "code",
      "execution_count": 8,
      "metadata": {
        "id": "jYdW0TyOfqBO"
      },
      "outputs": [
        {
          "data": {
            "text/plain": [
              "3"
            ]
          },
          "execution_count": 8,
          "metadata": {},
          "output_type": "execute_result"
        }
      ],
      "source": [
        "def majority(nums):\n",
        "    count = Counter(nums)\n",
        "    return count.most_common(1)[0][0]\n",
        "\n",
        "majority([3,2,3])"
      ]
    },
    {
      "cell_type": "code",
      "execution_count": 9,
      "metadata": {},
      "outputs": [
        {
          "data": {
            "text/plain": [
              "2"
            ]
          },
          "execution_count": 9,
          "metadata": {},
          "output_type": "execute_result"
        }
      ],
      "source": [
        "majority([2,2,1,1,1,2,2])"
      ]
    },
    {
      "cell_type": "markdown",
      "metadata": {
        "id": "1tAFWIwThqCj"
      },
      "source": [
        "## **Word Pattern**\n",
        "\n",
        "Given a pattern and a string s, find if s follows the same pattern.\n",
        "\n",
        "Here follow means a full match, such that there is a bijection between a letter in pattern and a non-empty word in s.\n",
        "\n",
        "(Optional) Analyze the complexity of your algorithm and compare it with your classmates'\n",
        "---\n",
        "\n",
        "**Example 1:**\n",
        "\n",
        "*   Input: pattern = \"abba\", s = \"dog cat cat dog\"\n",
        "*   Output: true\n",
        "\n",
        "Example 2:\n",
        "\n",
        "*   pattern = \"abba\", s = \"dog cat cat fish\"\n",
        "*   false\n",
        "\n",
        "Example 3:\n",
        "\n",
        "*   pattern = \"aaaa\", s = \"dog cat cat dog\"\n",
        "*   false"
      ]
    },
    {
      "cell_type": "code",
      "execution_count": 19,
      "metadata": {
        "colab": {
          "base_uri": "https://localhost:8080/"
        },
        "id": "VqC2BHEOhqPg",
        "outputId": "fba270c1-9f0f-4121-edf1-72ba97563e1e"
      },
      "outputs": [
        {
          "data": {
            "text/plain": [
              "True"
            ]
          },
          "execution_count": 19,
          "metadata": {},
          "output_type": "execute_result"
        }
      ],
      "source": [
        "def word_pattern(pattern, s):\n",
        "    pattern = list(pattern)\n",
        "    s = s.split(\" \")\n",
        "    match = {}\n",
        "    \n",
        "    for i in range(len(pattern)):\n",
        "        if pattern[i] in match.keys():\n",
        "            if s[i] == match[pattern[i]]:\n",
        "                continue\n",
        "            else:\n",
        "                return False\n",
        "        else:\n",
        "            match[pattern[i]] = s[i]\n",
        "    return True\n",
        "\n",
        "word_pattern(\"abba\", \"dog cat cat dog\")"
      ]
    },
    {
      "cell_type": "code",
      "execution_count": 20,
      "metadata": {},
      "outputs": [
        {
          "data": {
            "text/plain": [
              "False"
            ]
          },
          "execution_count": 20,
          "metadata": {},
          "output_type": "execute_result"
        }
      ],
      "source": [
        "word_pattern(\"abba\", \"dog cat cat fish\")"
      ]
    },
    {
      "cell_type": "code",
      "execution_count": 21,
      "metadata": {},
      "outputs": [
        {
          "data": {
            "text/plain": [
              "False"
            ]
          },
          "execution_count": 21,
          "metadata": {},
          "output_type": "execute_result"
        }
      ],
      "source": [
        "word_pattern(\"aaaa\", \"dog cat cat dog\")"
      ]
    },
    {
      "cell_type": "markdown",
      "metadata": {
        "id": "LOetDppKZHgG"
      },
      "source": [
        "## **Roman to Integer**\n",
        "\n",
        "Roman numerals are represented by seven different symbols: I, V, X, L, C, D and M.\n",
        "\n",
        "Symbol - Value: (I - 1), (V - 5), (X - 10), (L - 50), (C - 100), (D - 500), (M - 1000)\n",
        "\n",
        "For example, `2` is written as `II` in Roman numeral, just two ones added together. `12` is written as `XII`, which is simply `X + II`. The number `27` is written as `XXVII`, which is `XX + V + II`.\n",
        "\n",
        "Roman numerals are usually written largest to smallest from left to right.\n",
        "\n",
        "However, the numeral for `four` is not `IIII`. Instead, the number `four` is written as `IV`. Because the one is before the five we subtract it making `four`. The same principle applies to the number nine, which is written as `IX`. There are six instances where subtraction is used:\n",
        "\n",
        "`I` can be placed before `V (5)` and `X (10)` to make `4` and `9`.\n",
        "\n",
        "`X` can be placed before `L (50)` and `C (100)` to make `40` and `90`.\n",
        "\n",
        "`C` can be placed before `D (500)` and `M (1000)` to make `400` and `900`.\n",
        "\n",
        "Given a roman numeral, convert it to an integer.\n",
        "\n",
        "(Optional) Analyze the complexity of your algorithm and compare it with your classmates'\n",
        "\n",
        "---\n",
        "\n",
        "**Example 1:**\n",
        "\n",
        "*   Input: s = \"III\"\n",
        "*   Output: 3\n",
        "*   Explanation: III = 3.\n",
        "\n",
        "**Example 2:**\n",
        "\n",
        "*   Input: s = \"LVIII\"\n",
        "*   Output: 58\n",
        "*   Explanation: L = 50, V= 5, III = 3.\n",
        "\n",
        "**Example 3:**\n",
        "\n",
        "*   Input: s = \"MCMXCIV\"\n",
        "*   Output: 1994\n",
        "*   Explanation: M = 1000, CM = 900, XC = 90 and IV = 4.\n"
      ]
    },
    {
      "cell_type": "code",
      "execution_count": 26,
      "metadata": {},
      "outputs": [
        {
          "data": {
            "text/plain": [
              "3"
            ]
          },
          "execution_count": 26,
          "metadata": {},
          "output_type": "execute_result"
        }
      ],
      "source": [
        "def roman_to_num(s):\n",
        "    roman = list(s)\n",
        "    values = {'I': 1, 'V':5, 'X':10, 'L':50, 'C':100, 'D':500, 'M':1000}\n",
        "    num = values[roman[-1]]\n",
        "\n",
        "    for i in range(len(roman)-1):\n",
        "        if values[roman[i]] < values[roman[i+1]]:\n",
        "            num += (-1* values[roman[i]])\n",
        "        else:\n",
        "            num += values[roman[i]]\n",
        "\n",
        "    return num\n",
        "\n",
        "roman_to_num('III')"
      ]
    },
    {
      "cell_type": "code",
      "execution_count": 27,
      "metadata": {},
      "outputs": [
        {
          "data": {
            "text/plain": [
              "58"
            ]
          },
          "execution_count": 27,
          "metadata": {},
          "output_type": "execute_result"
        }
      ],
      "source": [
        "roman_to_num('LVIII')"
      ]
    },
    {
      "cell_type": "code",
      "execution_count": 28,
      "metadata": {},
      "outputs": [
        {
          "data": {
            "text/plain": [
              "1994"
            ]
          },
          "execution_count": 28,
          "metadata": {},
          "output_type": "execute_result"
        }
      ],
      "source": [
        "roman_to_num('MCMXCIV')"
      ]
    },
    {
      "cell_type": "code",
      "execution_count": null,
      "metadata": {},
      "outputs": [],
      "source": []
    }
  ],
  "metadata": {
    "colab": {
      "provenance": []
    },
    "kernelspec": {
      "display_name": "base",
      "language": "python",
      "name": "python3"
    },
    "language_info": {
      "codemirror_mode": {
        "name": "ipython",
        "version": 3
      },
      "file_extension": ".py",
      "mimetype": "text/x-python",
      "name": "python",
      "nbconvert_exporter": "python",
      "pygments_lexer": "ipython3",
      "version": "3.11.7"
    }
  },
  "nbformat": 4,
  "nbformat_minor": 0
}
