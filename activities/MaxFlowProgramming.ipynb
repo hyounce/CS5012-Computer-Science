{
  "cells": [
    {
      "cell_type": "markdown",
      "metadata": {},
      "source": [
        "# ICA 8.5 - Hilde Younce"
      ]
    },
    {
      "cell_type": "code",
      "execution_count": 3,
      "metadata": {
        "colab": {
          "base_uri": "https://localhost:8080/"
        },
        "id": "hHgrmEZUBCur",
        "outputId": "326f242c-5afa-48a5-e1c0-17249733b740"
      },
      "outputs": [
        {
          "name": "stdout",
          "output_type": "stream",
          "text": [
            "Max Flow: 23\n"
          ]
        }
      ],
      "source": [
        "class Graph:\n",
        "\n",
        "    def __init__(self, graph):\n",
        "        \"\"\"\n",
        "        Initialize the graph\n",
        "        :param graph: A 2D list representing the adjacency matrix of the graph,\n",
        "                      where graph[u][v] is the capacity of the edge from node u to node v\n",
        "        \"\"\"\n",
        "        self.graph = graph  # Store the graph (capacity matrix)\n",
        "        self.no_of_nodes = len(graph)  # Number of nodes in the graph\n",
        "\n",
        "    # Using BFS as a searching algorithm\n",
        "    # you can use\n",
        "    def aug_path_search(self, s, t, parent):\n",
        "        \"\"\"\n",
        "        Perform BFS to find an augmenting path from source (s) to sink (t)\n",
        "        :param s: Source node\n",
        "        :param t: Sink node\n",
        "        :param parent: List to store the path (stores the parent of each node in the path)\n",
        "        :return: True if an augmenting path is found, otherwise False\n",
        "        \"\"\"\n",
        "        visited = [False] * self.no_of_nodes  # Keep track of visited nodes\n",
        "        nodes = [] \n",
        "        nodes.append(s)\n",
        "        visited[s] = True\n",
        "\n",
        "        while nodes:\n",
        "            a = nodes.pop(0)\n",
        "\n",
        "            for x in range(self.no_of_nodes):\n",
        "\n",
        "                if not visited[x] and self.graph[a][x] > 0:\n",
        "                    nodes.append(x)\n",
        "                    visited[x] = True\n",
        "                    parent[x] = a\n",
        "                    if x == t:\n",
        "                        return True\n",
        "\n",
        "        return False  # Return False if no augmenting path is found\n",
        "\n",
        "    # Applying fordfulkerson algorithm\n",
        "    def ford_fulkerson(self, source, sink):\n",
        "        \"\"\"\n",
        "        Implement the Ford-Fulkerson method to find the maximum flow in the network\n",
        "        :param source: Source node\n",
        "        :param sink: Sink node\n",
        "        :return: Maximum flow value\n",
        "        \"\"\"\n",
        "        parent = [-1] * self.no_of_nodes  # Initialize parent list to store paths\n",
        "        max_flow = 0  # Initialize the maximum flow to 0\n",
        "\n",
        "        while self.aug_path_search(source, sink, parent):\n",
        "\n",
        "            # flows \n",
        "            path_flow = float('Inf')\n",
        "            x = sink\n",
        "            while x != source:\n",
        "                a = parent[x]\n",
        "                path_flow = min(path_flow, self.graph[a][x])\n",
        "                x = parent[x]\n",
        "\n",
        "            # residuals \n",
        "            x = sink\n",
        "            while x != source:\n",
        "                a = parent[x]\n",
        "                self.graph[a][x] -= path_flow\n",
        "                self.graph[x][a] += path_flow\n",
        "                x = parent[x]\n",
        "\n",
        "            max_flow += path_flow\n",
        "\n",
        "        return max_flow\n",
        "\n",
        "\n",
        "# Define the graph as a capacity matrix.\n",
        "graph = [[0, 16, 13, 0, 0, 0],  # Edge capacities from node 0 (S) to others\n",
        "         [0, 0, 0, 12, 0, 0],   # Edge capacities from node 1     to others\n",
        "         [0, 4, 0, 0, 14, 0],   # Edge capacities from node 2     to others\n",
        "         [0, 0, 9, 0, 0, 20],   # Edge capacities from node 3     to others\n",
        "         [0, 0, 0, 7, 0, 4],    # Edge capacities from node 4     to others\n",
        "         [0, 0, 0, 0, 0, 0]]    # Edge capacities from node 5 (T) to others\n",
        "\n",
        "# Create a Graph object.\n",
        "g = Graph(graph)\n",
        "\n",
        "source = 0  # Source node (S)\n",
        "sink = 5    # Sink node (T)\n",
        "\n",
        "# Calculate and print the maximum flow from source to sink\n",
        "print(\"Max Flow: %d\" % g.ford_fulkerson(source, sink))"
      ]
    }
  ],
  "metadata": {
    "colab": {
      "provenance": []
    },
    "kernelspec": {
      "display_name": "base",
      "language": "python",
      "name": "python3"
    },
    "language_info": {
      "codemirror_mode": {
        "name": "ipython",
        "version": 3
      },
      "file_extension": ".py",
      "mimetype": "text/x-python",
      "name": "python",
      "nbconvert_exporter": "python",
      "pygments_lexer": "ipython3",
      "version": "3.11.7"
    }
  },
  "nbformat": 4,
  "nbformat_minor": 0
}
